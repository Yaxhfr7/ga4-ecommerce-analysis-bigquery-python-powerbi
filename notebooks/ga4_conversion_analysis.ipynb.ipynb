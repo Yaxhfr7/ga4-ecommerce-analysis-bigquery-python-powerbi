{
  "nbformat": 4,
  "nbformat_minor": 0,
  "metadata": {
    "colab": {
      "provenance": []
    },
    "kernelspec": {
      "name": "python3",
      "display_name": "Python 3"
    },
    "language_info": {
      "name": "python"
    }
  },
  "cells": [
    {
      "cell_type": "code",
      "execution_count": 14,
      "metadata": {
        "colab": {
          "base_uri": "https://localhost:8080/"
        },
        "collapsed": true,
        "id": "kr4rzVIdkTxE",
        "outputId": "938418f9-b70d-4da1-9975-b8bd4133f88a"
      },
      "outputs": [
        {
          "output_type": "stream",
          "name": "stdout",
          "text": [
            "Data downloaded and saved as 'merchandise_store_full_data.csv' in Colab environment. Total rows: 2151546\n"
          ]
        }
      ],
      "source": [
        "from google.colab import auth\n",
        "auth.authenticate_user()\n",
        "\n",
        "from google.cloud import bigquery\n",
        "import pandas as pd\n",
        "\n",
        "# Initialize BigQuery client with your Google project ID\n",
        "client = bigquery.Client(project='geometric-shine-469609-f8')\n",
        "\n",
        "query = \"\"\"\n",
        "SELECT\n",
        "  event_date,\n",
        "  event_name,\n",
        "  user_pseudo_id,\n",
        "  device.category AS device_category,\n",
        "  device.operating_system,\n",
        "  device.web_info.browser,\n",
        "  geo.country,\n",
        "  geo.city,\n",
        "  traffic_source.source,\n",
        "  traffic_source.medium,\n",
        "  traffic_source.name AS campaign_name,\n",
        "  ecommerce.transaction_id,\n",
        "  ecommerce.purchase_revenue,\n",
        "  ecommerce.purchase_revenue_in_usd,\n",
        "  ecommerce.total_item_quantity,\n",
        "  event_timestamp\n",
        "FROM `bigquery-public-data.ga4_obfuscated_sample_ecommerce.events_*`\n",
        "WHERE _TABLE_SUFFIX BETWEEN '20201101' AND '20201231'\n",
        "  AND event_name IN (\n",
        "    'purchase',\n",
        "    'first_visit',\n",
        "    'page_view',\n",
        "    'session_start',\n",
        "    'user_engagement'\n",
        "  )\n",
        "ORDER BY event_timestamp\n",
        "\"\"\"\n",
        "\n",
        "# Run the query and get the results in a DataFrame\n",
        "df = client.query(query).result().to_dataframe(create_bqstorage_client=True)\n",
        "\n",
        "# Convert event_timestamp to datetime\n",
        "df['event_timestamp'] = pd.to_datetime(df['event_timestamp'], unit='us')\n",
        "\n",
        "# Save the DataFrame as CSV in Colab environment\n",
        "csv_filename = \"merchandise_store_full_data.csv\"\n",
        "df.to_csv(csv_filename, index=False)\n",
        "\n",
        "print(f\"Data downloaded and saved as '{\"merchandise_store_full_data.csv\"}' in Colab environment. Total rows: {len(df)}\")\n"
      ]
    },
    {
      "cell_type": "code",
      "source": [
        "# --- Step 2.1: Load Data ---\n",
        "import pandas as pd\n",
        "\n",
        "csv_filename = \"merchandise_store_full_data.csv\"\n",
        "df = pd.read_csv(csv_filename)\n",
        "\n",
        "print(\"## Step 2.1: Load Data\")\n",
        "print(f\"Data loaded from '{csv_filename}'. Total rows: {len(df)}, columns: {len(df.columns)}\")\n",
        "\n",
        "\n",
        "print(f\"\\nData types:\")\n",
        "print(df.dtypes)\n",
        "\n",
        "print(f\"\\n✅ Data loading complete! Moving to next step...\")\n"
      ],
      "metadata": {
        "colab": {
          "base_uri": "https://localhost:8080/"
        },
        "id": "uq6f8SRHlYDC",
        "outputId": "e84e0fa2-66c0-4224-8901-07562f14eef2"
      },
      "execution_count": 15,
      "outputs": [
        {
          "output_type": "stream",
          "name": "stderr",
          "text": [
            "/tmp/ipython-input-3497896867.py:5: DtypeWarning: Columns (11) have mixed types. Specify dtype option on import or set low_memory=False.\n",
            "  df = pd.read_csv(csv_filename)\n"
          ]
        },
        {
          "output_type": "stream",
          "name": "stdout",
          "text": [
            "## Step 2.1: Load Data\n",
            "Data loaded from 'merchandise_store_full_data.csv'. Total rows: 2151546, columns: 16\n",
            "\n",
            "Data types:\n",
            "event_date                   int64\n",
            "event_name                  object\n",
            "user_pseudo_id             float64\n",
            "device_category             object\n",
            "operating_system            object\n",
            "browser                     object\n",
            "country                     object\n",
            "city                        object\n",
            "source                      object\n",
            "medium                      object\n",
            "campaign_name               object\n",
            "transaction_id              object\n",
            "purchase_revenue           float64\n",
            "purchase_revenue_in_usd    float64\n",
            "total_item_quantity        float64\n",
            "event_timestamp             object\n",
            "dtype: object\n",
            "\n",
            "✅ Data loading complete! Moving to next step...\n"
          ]
        }
      ]
    },
    {
      "cell_type": "markdown",
      "source": [
        "Why do we have so many missing values in purchase fields? Answer: Because most GA4 events are NOT purchases! Only purchase events will have transaction_id and revenue data."
      ],
      "metadata": {
        "id": "q_EfCAjX0xzX"
      }
    },
    {
      "cell_type": "code",
      "source": [
        "# --- Step 2.2: Data Overview ---\n",
        "print(\"## Step 2.2: Data Overview\")\n",
        "print(\"\\nColumns:\")\n",
        "print(df.columns.tolist())\n",
        "\n",
        "print(\"\\nFirst 5 rows:\")\n",
        "print(df.head())\n"
      ],
      "metadata": {
        "colab": {
          "base_uri": "https://localhost:8080/"
        },
        "id": "Yr2sfdFW0xnD",
        "outputId": "40484022-7a4d-4fa6-d1ec-06d6782eb66f"
      },
      "execution_count": 16,
      "outputs": [
        {
          "output_type": "stream",
          "name": "stdout",
          "text": [
            "## Step 2.2: Data Overview\n",
            "\n",
            "Columns:\n",
            "['event_date', 'event_name', 'user_pseudo_id', 'device_category', 'operating_system', 'browser', 'country', 'city', 'source', 'medium', 'campaign_name', 'transaction_id', 'purchase_revenue', 'purchase_revenue_in_usd', 'total_item_quantity', 'event_timestamp']\n",
            "\n",
            "First 5 rows:\n",
            "   event_date     event_name  user_pseudo_id device_category operating_system  \\\n",
            "0    20201101    first_visit    8.202397e+07         desktop        Macintosh   \n",
            "1    20201101      page_view    8.202397e+07         desktop        Macintosh   \n",
            "2    20201101  session_start    8.202397e+07         desktop        Macintosh   \n",
            "3    20201101      page_view    7.754124e+06          mobile              Web   \n",
            "4    20201101  session_start    7.754124e+06          mobile              Web   \n",
            "\n",
            "   browser        country       city    source  medium campaign_name  \\\n",
            "0   Chrome         Canada    Toronto  (direct)  (none)      (direct)   \n",
            "1   Chrome         Canada    Toronto  (direct)  (none)      (direct)   \n",
            "2   Chrome         Canada    Toronto  (direct)  (none)      (direct)   \n",
            "3  <Other>  United States  (not set)    google     cpc       <Other>   \n",
            "4  <Other>  United States  (not set)    google     cpc       <Other>   \n",
            "\n",
            "  transaction_id  purchase_revenue  purchase_revenue_in_usd  \\\n",
            "0            NaN               NaN                      NaN   \n",
            "1            NaN               NaN                      NaN   \n",
            "2            NaN               NaN                      NaN   \n",
            "3            NaN               NaN                      NaN   \n",
            "4            NaN               NaN                      NaN   \n",
            "\n",
            "   total_item_quantity             event_timestamp  \n",
            "0                  NaN  2020-11-01 00:00:04.579566  \n",
            "1                  NaN  2020-11-01 00:00:04.579566  \n",
            "2                  NaN  2020-11-01 00:00:04.579566  \n",
            "3                  NaN  2020-11-01 00:00:06.427147  \n",
            "4                  NaN  2020-11-01 00:00:06.427147  \n"
          ]
        }
      ]
    },
    {
      "cell_type": "code",
      "source": [
        "#describe statistics\n",
        "print(df.describe().T)\n"
      ],
      "metadata": {
        "colab": {
          "base_uri": "https://localhost:8080/"
        },
        "id": "wsrxJgG90nE_",
        "outputId": "e48b959c-226c-4857-f531-773f2bf109c0"
      },
      "execution_count": 17,
      "outputs": [
        {
          "output_type": "stream",
          "name": "stdout",
          "text": [
            "                             count          mean           std           min  \\\n",
            "event_date               2151546.0  2.020117e+07  4.937226e+01  2.020110e+07   \n",
            "user_pseudo_id           2151546.0  2.601981e+08  1.175938e+09  1.000300e+06   \n",
            "purchase_revenue            4338.0  7.026625e+01  8.081102e+01  1.000000e+00   \n",
            "purchase_revenue_in_usd     4488.0  6.791778e+01  8.044655e+01  0.000000e+00   \n",
            "total_item_quantity         4338.0  4.438681e+00  9.930101e+00  1.000000e+00   \n",
            "\n",
            "                                  25%           50%           75%  \\\n",
            "event_date               2.020112e+07  2.020120e+07  2.020121e+07   \n",
            "user_pseudo_id           5.889911e+06  2.294114e+07  6.160978e+07   \n",
            "purchase_revenue         2.800000e+01  4.800000e+01  8.400000e+01   \n",
            "purchase_revenue_in_usd  2.500000e+01  4.600000e+01  8.100000e+01   \n",
            "total_item_quantity      1.000000e+00  2.000000e+00  5.000000e+00   \n",
            "\n",
            "                                  max  \n",
            "event_date               2.020123e+07  \n",
            "user_pseudo_id           9.994023e+09  \n",
            "purchase_revenue         1.530000e+03  \n",
            "purchase_revenue_in_usd  1.530000e+03  \n",
            "total_item_quantity      4.000000e+02  \n"
          ]
        }
      ]
    },
    {
      "cell_type": "code",
      "source": [
        "print(\"## Step 2.3: Data Types and Non-Null Counts\")\n",
        "print(df.info())\n"
      ],
      "metadata": {
        "colab": {
          "base_uri": "https://localhost:8080/"
        },
        "id": "mvS-bwa-5e2k",
        "outputId": "5341005f-cf26-45f3-ec7f-4b9a138a9cd5"
      },
      "execution_count": 18,
      "outputs": [
        {
          "output_type": "stream",
          "name": "stdout",
          "text": [
            "## Step 2.3: Data Types and Non-Null Counts\n",
            "<class 'pandas.core.frame.DataFrame'>\n",
            "RangeIndex: 2151546 entries, 0 to 2151545\n",
            "Data columns (total 16 columns):\n",
            " #   Column                   Dtype  \n",
            "---  ------                   -----  \n",
            " 0   event_date               int64  \n",
            " 1   event_name               object \n",
            " 2   user_pseudo_id           float64\n",
            " 3   device_category          object \n",
            " 4   operating_system         object \n",
            " 5   browser                  object \n",
            " 6   country                  object \n",
            " 7   city                     object \n",
            " 8   source                   object \n",
            " 9   medium                   object \n",
            " 10  campaign_name            object \n",
            " 11  transaction_id           object \n",
            " 12  purchase_revenue         float64\n",
            " 13  purchase_revenue_in_usd  float64\n",
            " 14  total_item_quantity      float64\n",
            " 15  event_timestamp          object \n",
            "dtypes: float64(4), int64(1), object(11)\n",
            "memory usage: 262.6+ MB\n",
            "None\n"
          ]
        }
      ]
    },
    {
      "cell_type": "code",
      "source": [
        "# --- Step 2.5: Missing Values Analysis ---\n",
        "print(\"## Step 2.5: Missing Values per Column\")\n",
        "print(df.isna().sum())"
      ],
      "metadata": {
        "colab": {
          "base_uri": "https://localhost:8080/"
        },
        "id": "f7S7wyeL5h9u",
        "outputId": "638698bb-b18d-48c2-da7a-be5cf49d8bb3"
      },
      "execution_count": 19,
      "outputs": [
        {
          "output_type": "stream",
          "name": "stdout",
          "text": [
            "## Step 2.5: Missing Values per Column\n",
            "event_date                       0\n",
            "event_name                       0\n",
            "user_pseudo_id                   0\n",
            "device_category                  0\n",
            "operating_system                 0\n",
            "browser                          0\n",
            "country                          0\n",
            "city                             0\n",
            "source                           0\n",
            "medium                           0\n",
            "campaign_name                    0\n",
            "transaction_id             2147081\n",
            "purchase_revenue           2147208\n",
            "purchase_revenue_in_usd    2147058\n",
            "total_item_quantity        2147208\n",
            "event_timestamp                  0\n",
            "dtype: int64\n"
          ]
        }
      ]
    },
    {
      "cell_type": "code",
      "source": [
        "# Cell 7: Event analysis\n",
        "print(\"## Step 2.6: Event Distribution\")\n",
        "print(df['event_name'].value_counts())"
      ],
      "metadata": {
        "colab": {
          "base_uri": "https://localhost:8080/"
        },
        "id": "DLIGyULY6lGn",
        "outputId": "a0075e96-e125-44f9-c613-e2c507f97cd9"
      },
      "execution_count": 20,
      "outputs": [
        {
          "output_type": "stream",
          "name": "stdout",
          "text": [
            "## Step 2.6: Event Distribution\n",
            "event_name\n",
            "page_view          931424\n",
            "user_engagement    808624\n",
            "session_start      238421\n",
            "first_visit        168589\n",
            "purchase             4488\n",
            "Name: count, dtype: int64\n"
          ]
        }
      ]
    },
    {
      "cell_type": "code",
      "source": [
        "# Cell 8: Data Quality Summary\n",
        "print(\"## Step 2.8: Phase 1 Data Quality Summary\")\n",
        "print(\"=\"*50)\n",
        "\n",
        "# Key metrics for conversion analysis\n",
        "total_events = len(df)\n",
        "total_sessions = df[df['event_name'] == 'session_start'].shape[0]\n",
        "total_purchases = df[df['event_name'] == 'purchase'].shape[0]\n",
        "conversion_rate = (total_purchases / total_sessions) * 100\n",
        "\n",
        "print(\" Dataset Summary:\")\n",
        "print(f\"Total events: {total_events:,}\")\n",
        "print(f\"Total sessions: {total_sessions:,}\")\n",
        "print(f\"Total purchases: {total_purchases:,}\")\n",
        "print(f\"Session conversion rate: {conversion_rate:.2f}%\")\n",
        "\n",
        "\n"
      ],
      "metadata": {
        "colab": {
          "base_uri": "https://localhost:8080/"
        },
        "id": "EkmEp1Tc60HF",
        "outputId": "aaf977b2-e2d2-491b-ddea-f9f723092a8c"
      },
      "execution_count": 21,
      "outputs": [
        {
          "output_type": "stream",
          "name": "stdout",
          "text": [
            "## Step 2.8: Phase 1 Data Quality Summary\n",
            "==================================================\n",
            " Dataset Summary:\n",
            "Total events: 2,151,546\n",
            "Total sessions: 238,421\n",
            "Total purchases: 4,488\n",
            "Session conversion rate: 1.88%\n"
          ]
        }
      ]
    },
    {
      "cell_type": "code",
      "source": [
        "# --- Phase 1.3: Data Cleaning (Complete) ---\n",
        "print(\"## Phase 1.3: Complete Data Cleaning\")\n",
        "\n",
        "# Check for any duplicate rows in the entire dataset\n",
        "duplicate_rows = df.duplicated().sum()\n",
        "print(f\"Total duplicate rows: {duplicate_rows:,}\")\n",
        "\n",
        "# Check for duplicate transaction IDs in purchase events\n",
        "purchase_df = df[df['event_name'] == 'purchase']\n",
        "duplicate_txns = purchase_df.duplicated(subset=['transaction_id'], keep=False)\n",
        "print(f\"Rows with duplicate transaction IDs: {duplicate_txns.sum():,}\")\n",
        "\n",
        "# Clean up data types for better analysis\n",
        "print(f\"\\nCleaning data types...\")\n",
        "df['user_pseudo_id'] = df['user_pseudo_id'].astype(str)\n",
        "df['event_date'] = df['event_date'].astype(str)\n",
        "# Quick final data check\n",
        "print(f\"\\n📊 Final Dataset After Cleaning:\")\n",
        "print(f\"Shape: {df.shape}\")\n",
        "print(f\"Data types look good: ✅\")\n",
        "print(f\"Ready for feature engineering: ✅\")\n",
        "\n",
        "print(f\"\\n✅ Phase 1.3: Data Cleaning COMPLETE!\")\n",
        "print(f\"🚀 Ready for Phase 1.4: Feature Engineering\")"
      ],
      "metadata": {
        "colab": {
          "base_uri": "https://localhost:8080/"
        },
        "id": "f9vZXj56-cBn",
        "outputId": "b0afca30-01a2-4be2-a80c-68ee6d3914da"
      },
      "execution_count": 22,
      "outputs": [
        {
          "output_type": "stream",
          "name": "stdout",
          "text": [
            "## Phase 1.3: Complete Data Cleaning\n",
            "Total duplicate rows: 0\n",
            "Rows with duplicate transaction IDs: 1,236\n",
            "\n",
            "Cleaning data types...\n",
            "\n",
            "📊 Final Dataset After Cleaning:\n",
            "Shape: (2151546, 16)\n",
            "Data types look good: ✅\n",
            "Ready for feature engineering: ✅\n",
            "\n",
            "✅ Phase 1.3: Data Cleaning COMPLETE!\n",
            "🚀 Ready for Phase 1.4: Feature Engineering\n"
          ]
        }
      ]
    },
    {
      "cell_type": "markdown",
      "source": [
        "# **Phase 1.4: Feature Engineering**"
      ],
      "metadata": {
        "id": "BM4-AiDL_wlj"
      }
    },
    {
      "cell_type": "code",
      "source": [
        "# --- Phase 1.4: Feature Engineering ---\n",
        "df['event_timestamp'] = pd.to_datetime(df['event_timestamp'])\n",
        "print(\"## Phase 1.4: Feature Engineering\")\n",
        "\n",
        "# Create analysis-ready features\n",
        "df['is_purchase'] = (df['event_name'] == 'purchase').astype(int)\n",
        "df['hour'] = df['event_timestamp'].dt.hour\n",
        "df['day_name'] = df['event_timestamp'].dt.day_name()\n",
        "df['is_weekend'] = df['event_timestamp'].dt.weekday.isin([5, 6]).astype(int)\n",
        "\n",
        "print(\"✅ Phase 1 COMPLETE - Ready for Phase 2!\")\n"
      ],
      "metadata": {
        "colab": {
          "base_uri": "https://localhost:8080/"
        },
        "id": "aMbqDpT3_wN_",
        "outputId": "6c10201d-7f0c-4f84-cd7d-392aa58fec22"
      },
      "execution_count": 24,
      "outputs": [
        {
          "output_type": "stream",
          "name": "stdout",
          "text": [
            "## Phase 1.4: Feature Engineering\n",
            "✅ Phase 1 COMPLETE - Ready for Phase 2!\n"
          ]
        }
      ]
    },
    {
      "cell_type": "markdown",
      "source": [
        "### **2.1 Conversion Baseline**\n",
        "\n"
      ],
      "metadata": {
        "id": "ODMdCcGOFCAK"
      }
    },
    {
      "cell_type": "code",
      "source": [
        "# Cell 11: Conversion Rate Baseline\n",
        "print(\"## Phase 2.1: Conversion Rate Baseline\")\n",
        "\n",
        "# Calculate overall conversion rate\n",
        "sessions = len(df[df['event_name'] == 'session_start'])\n",
        "purchases = len(df[df['event_name'] == 'purchase'])\n",
        "conversion_rate = (purchases / sessions) * 100\n",
        "\n",
        "print(f\"Sessions: {sessions:,}\")\n",
        "print(f\"Purchases: {purchases:,}\")\n",
        "print(f\"Conversion rate: {conversion_rate:.2f}%\")\n",
        "\n",
        "# Quick check - what's our target?\n",
        "target = 2.50\n",
        "gap = target - conversion_rate\n",
        "print(f\"Target: {target}%\")\n",
        "print(f\"Need to improve by: {gap:.2f} percentage points\")\n",
        "\n",
        "print(\"✅ Baseline done - let's see what affects conversion rates\")\n"
      ],
      "metadata": {
        "colab": {
          "base_uri": "https://localhost:8080/"
        },
        "id": "GcWzT679AeNz",
        "outputId": "c7f8394d-9b74-44e1-9aff-5816d2111702"
      },
      "execution_count": 25,
      "outputs": [
        {
          "output_type": "stream",
          "name": "stdout",
          "text": [
            "## Phase 2.1: Conversion Rate Baseline\n",
            "Sessions: 238,421\n",
            "Purchases: 4,488\n",
            "Conversion rate: 1.88%\n",
            "Target: 2.5%\n",
            "Need to improve by: 0.62 percentage points\n",
            "✅ Baseline done - let's see what affects conversion rates\n"
          ]
        }
      ]
    },
    {
      "cell_type": "markdown",
      "source": [
        "**Cell 12: Traffic Source Analysis**"
      ],
      "metadata": {
        "id": "FW5xWTxLFNkS"
      }
    },
    {
      "cell_type": "code",
      "source": [
        "# Cell 12: Traffic Source Performance\n",
        "print(\"## Phase 2.2: Traffic Source Analysis\")\n",
        "\n",
        "# Group by traffic source and calculate conversion rates\n",
        "source_performance = df.groupby('source').agg({\n",
        "    'event_name': 'count',\n",
        "    'is_purchase': 'sum'\n",
        "}).rename(columns={'event_name': 'total_events', 'is_purchase': 'purchases'})\n",
        "\n",
        "# Calculate conversion rates by source\n",
        "source_performance['conversion_rate'] = (source_performance['purchases'] /\n",
        "                                       source_performance['total_events'] * 100).round(3)\n",
        "\n",
        "# Sort by conversion rate\n",
        "source_performance = source_performance.sort_values('conversion_rate', ascending=False)\n",
        "\n",
        "print(\"Traffic Source Performance:\")\n",
        "print(source_performance)\n",
        "\n",
        "# Quick insights\n",
        "best_source = source_performance.index[0]\n",
        "worst_source = source_performance.index[-1]\n",
        "print(f\"\\nBest performing source: {best_source}\")\n",
        "print(f\"Worst performing source: {worst_source}\")\n",
        "\n",
        "print(\"✅ Now we know which traffic sources work best!\")\n"
      ],
      "metadata": {
        "colab": {
          "base_uri": "https://localhost:8080/"
        },
        "id": "pIi8iVLoFNNE",
        "outputId": "2cf819e6-ab2c-4d42-a527-0fc4b23ce93c"
      },
      "execution_count": 26,
      "outputs": [
        {
          "output_type": "stream",
          "name": "stdout",
          "text": [
            "## Phase 2.2: Traffic Source Analysis\n",
            "Traffic Source Performance:\n",
            "                                 total_events  purchases  conversion_rate\n",
            "source                                                                   \n",
            "(data deleted)                         148657        673            0.453\n",
            "shop.googlemerchandisestore.com        179678        536            0.298\n",
            "(direct)                               495346        982            0.198\n",
            "<Other>                                568994       1025            0.180\n",
            "google                                 758871       1272            0.168\n",
            "\n",
            "Best performing source: (data deleted)\n",
            "Worst performing source: google\n",
            "✅ Now we know which traffic sources work best!\n"
          ]
        }
      ]
    },
    {
      "cell_type": "markdown",
      "source": [
        "# **🎯 Key Findings**\n",
        "Surprising Results:\n",
        "\n",
        "- (data deleted) has the highest conversion rate at 0.453% - interesting!\n",
        "\n",
        "- Google traffic converts worst at only 0.168% - this is concerning\n",
        "\n",
        "- Direct traffic performs better than Google at 0.198%\n",
        "\n",
        "- Shop.googlemerchandisestore.com does well at 0.298%"
      ],
      "metadata": {
        "id": "A6Xctu7sF44g"
      }
    },
    {
      "cell_type": "markdown",
      "source": [
        "# **Cell 13: Device Performance Analysis**"
      ],
      "metadata": {
        "id": "H4SubJnbGEvQ"
      }
    },
    {
      "cell_type": "code",
      "source": [
        "# Cell 13: Device Category Performance\n",
        "print(\"## Phase 2.3: Device Performance\")\n",
        "\n",
        "# Analyze conversion by device category\n",
        "device_performance = df.groupby('device_category').agg({\n",
        "    'event_name': 'count',\n",
        "    'is_purchase': 'sum'\n",
        "}).rename(columns={'event_name': 'total_events', 'is_purchase': 'purchases'})\n",
        "\n",
        "device_performance['conversion_rate'] = (device_performance['purchases'] /\n",
        "                                        device_performance['total_events'] * 100).round(3)\n",
        "\n",
        "print(\"Device Performance:\")\n",
        "print(device_performance.sort_values('conversion_rate', ascending=False))\n",
        "\n",
        "# Quick mobile vs desktop check\n",
        "mobile_conv = device_performance.loc['mobile', 'conversion_rate']\n",
        "desktop_conv = device_performance.loc['desktop', 'conversion_rate']\n",
        "\n",
        "print(f\"\\nMobile conversion: {mobile_conv}%\")\n",
        "print(f\"Desktop conversion: {desktop_conv}%\")\n",
        "\n",
        "if mobile_conv < desktop_conv:\n",
        "    print(\"🚨 Mobile conversion is lower - potential friction on mobile site\")\n",
        "else:\n",
        "    print(\"✅ Mobile conversion looks good\")\n",
        "\n",
        "print(\"✅ Device analysis complete!\")\n"
      ],
      "metadata": {
        "colab": {
          "base_uri": "https://localhost:8080/"
        },
        "id": "UwXyUjrZGET-",
        "outputId": "ab5a9a1d-fb7f-4c05-bda7-6427024b9fff"
      },
      "execution_count": 27,
      "outputs": [
        {
          "output_type": "stream",
          "name": "stdout",
          "text": [
            "## Phase 2.3: Device Performance\n",
            "Device Performance:\n",
            "                 total_events  purchases  conversion_rate\n",
            "device_category                                          \n",
            "mobile                 855195       1847            0.216\n",
            "desktop               1249865       2559            0.205\n",
            "tablet                  46486         82            0.176\n",
            "\n",
            "Mobile conversion: 0.216%\n",
            "Desktop conversion: 0.205%\n",
            "✅ Mobile conversion looks good\n",
            "✅ Device analysis complete!\n"
          ]
        }
      ]
    },
    {
      "cell_type": "markdown",
      "source": [
        "# ** Device Performance Insights**\n",
        "\n",
        "\n",
        "---\n",
        "\n",
        "\n",
        "**Mobile Actually Outperforms Desktop:**\n",
        "\n",
        "- Mobile: 0.216% conversion vs Desktop: 0.205%\n",
        "\n",
        "- This is great news - no major mobile friction issues!\n",
        "\n",
        "- Mobile users are slightly more likely to purchase\n",
        "\n",
        "**Volume Distribution:**\n",
        "\n",
        "- Desktop: 1.25M events (58% of traffic)\n",
        "\n",
        "- Mobile: 855K events (40% of traffic)\n",
        "\n",
        "- Tablet: 46K events (2% of traffic)"
      ],
      "metadata": {
        "id": "aFcvNTfKGV_7"
      }
    },
    {
      "cell_type": "markdown",
      "source": [
        "# ** Cell 14: Time Pattern Analysis**"
      ],
      "metadata": {
        "id": "ZA1HZfP_GnCQ"
      }
    },
    {
      "cell_type": "code",
      "source": [
        "# Cell 14: Time Pattern Analysis\n",
        "print(\"## Phase 2.4: Time Patterns\")\n",
        "\n",
        "# Hour-based conversion analysis\n",
        "hourly_performance = df.groupby('hour').agg({\n",
        "    'event_name': 'count',\n",
        "    'is_purchase': 'sum'\n",
        "}).rename(columns={'event_name': 'total_events', 'is_purchase': 'purchases'})\n",
        "\n",
        "hourly_performance['conversion_rate'] = (hourly_performance['purchases'] /\n",
        "                                        hourly_performance['total_events'] * 100).round(3)\n",
        "\n",
        "print(\"Top 5 hours for conversion:\")\n",
        "top_hours = hourly_performance.sort_values('conversion_rate', ascending=False).head()\n",
        "print(top_hours)\n",
        "\n",
        "# Weekend vs weekday\n",
        "weekend_performance = df.groupby('is_weekend').agg({\n",
        "    'event_name': 'count',\n",
        "    'is_purchase': 'sum'\n",
        "}).rename(columns={'event_name': 'total_events', 'is_purchase': 'purchases'})\n",
        "\n",
        "weekend_performance['conversion_rate'] = (weekend_performance['purchases'] /\n",
        "                                         weekend_performance['total_events'] * 100).round(3)\n",
        "\n",
        "print(f\"\\nWeekend vs Weekday:\")\n",
        "print(\"Weekday conversion:\", weekend_performance.loc[0, 'conversion_rate'], \"%\")\n",
        "print(\"Weekend conversion:\", weekend_performance.loc[1, 'conversion_rate'], \"%\")\n",
        "\n",
        "print(\"✅ Time patterns analyzed!\")\n"
      ],
      "metadata": {
        "colab": {
          "base_uri": "https://localhost:8080/"
        },
        "id": "YhsZCjjGFLQb",
        "outputId": "4b28158f-b81a-4f4a-e0b3-1af68d744cf3"
      },
      "execution_count": 28,
      "outputs": [
        {
          "output_type": "stream",
          "name": "stdout",
          "text": [
            "## Phase 2.4: Time Patterns\n",
            "Top 5 hours for conversion:\n",
            "      total_events  purchases  conversion_rate\n",
            "hour                                          \n",
            "5            90413        230            0.254\n",
            "16           88825        221            0.249\n",
            "22           88524        214            0.242\n",
            "8            91060        205            0.225\n",
            "6            90730        203            0.224\n",
            "\n",
            "Weekend vs Weekday:\n",
            "Weekday conversion: 0.217 %\n",
            "Weekend conversion: 0.178 %\n",
            "✅ Time patterns analyzed!\n"
          ]
        }
      ]
    },
    {
      "cell_type": "markdown",
      "source": [
        "Business Implications\n",
        "Campaign Timing Opportunities:\n",
        "\n",
        "Focus ad spend during 5-6 AM and 4 PM hours\n",
        "\n",
        "Weekday campaigns perform better than weekend ones\n",
        "\n",
        "Consider email campaigns timed for early morning (5 AM)\n",
        "\n",
        "User Behavior Insights:\n",
        "\n",
        "People buy more during work days than leisure days\n",
        "\n",
        "Early risers are high-converting customers\n",
        "\n",
        "Evening shoppers (10 PM) also convert well\n",
        "\n",
        "🎯 Action Items\n",
        "Shift ad budgets to peak conversion hours (5 AM, 4 PM, 10 PM)\n",
        "\n",
        "Reduce weekend spend, increase weekday focus\n",
        "\n",
        "Test early morning email campaigns (5-6 AM sends)"
      ],
      "metadata": {
        "id": "oRKllvQNDeDW"
      }
    },
    {
      "cell_type": "markdown",
      "source": [
        "# ** Cell 15: Geographic Analysis**"
      ],
      "metadata": {
        "id": "sB3aqfTADgdu"
      }
    },
    {
      "cell_type": "code",
      "source": [
        "# Cell 15: Geographic Performance\n",
        "print(\"## Phase 2.5: Geographic Analysis\")\n",
        "\n",
        "# Country-based conversion analysis\n",
        "country_performance = df.groupby('country').agg({\n",
        "    'event_name': 'count',\n",
        "    'is_purchase': 'sum'\n",
        "}).rename(columns={'event_name': 'total_events', 'is_purchase': 'purchases'})\n",
        "\n",
        "country_performance['conversion_rate'] = (country_performance['purchases'] /\n",
        "                                         country_performance['total_events'] * 100).round(3)\n",
        "\n",
        "# Show top 10 countries by volume\n",
        "top_countries = country_performance.sort_values('total_events', ascending=False).head(10)\n",
        "print(\"Top 10 Countries by Traffic:\")\n",
        "print(top_countries)\n",
        "\n",
        "# Show top 5 countries by conversion rate (min 1000 events)\n",
        "high_converting = country_performance[country_performance['total_events'] >= 1000].sort_values('conversion_rate', ascending=False).head(5)\n",
        "print(f\"\\nTop 5 Converting Countries (min 1000 events):\")\n",
        "print(high_converting)\n",
        "\n",
        "print(\"✅ Geographic patterns identified!\")\n"
      ],
      "metadata": {
        "colab": {
          "base_uri": "https://localhost:8080/"
        },
        "id": "pamPksMgDOCy",
        "outputId": "c38579b3-35d7-4994-ec1a-016f9da5bf6b"
      },
      "execution_count": 29,
      "outputs": [
        {
          "output_type": "stream",
          "name": "stdout",
          "text": [
            "## Phase 2.5: Geographic Analysis\n",
            "Top 10 Countries by Traffic:\n",
            "                total_events  purchases  conversion_rate\n",
            "country                                                 \n",
            "United States         960227       1968            0.205\n",
            "India                 196850        450            0.229\n",
            "Canada                161073        355            0.220\n",
            "United Kingdom         66960        142            0.212\n",
            "France                 41093         96            0.234\n",
            "Spain                  40558         92            0.227\n",
            "China                  38007         74            0.195\n",
            "Germany                36475         73            0.200\n",
            "Taiwan                 36286         60            0.165\n",
            "Italy                  31293         47            0.150\n",
            "\n",
            "Top 5 Converting Countries (min 1000 events):\n",
            "                    total_events  purchases  conversion_rate\n",
            "country                                                     \n",
            "Uruguay                     1052          6            0.570\n",
            "Slovenia                    1597          8            0.501\n",
            "Colombia                    8983         35            0.390\n",
            "Dominican Republic          1577          6            0.380\n",
            "Kuwait                      1811          6            0.331\n",
            "✅ Geographic patterns identified!\n"
          ]
        }
      ]
    },
    {
      "cell_type": "markdown",
      "source": [
        "Business Opportunities\n",
        "Immediate Actions:\n",
        "\n",
        "Fix US market - Biggest traffic, biggest opportunity for improvement\n",
        "\n",
        "Scale India success - High volume + good conversion = invest more\n",
        "\n",
        "Learn from France - What makes French users convert better?\n",
        "\n",
        "Investigate Italy/Taiwan - Why such low conversion rates?\n",
        "\n",
        "Growth Markets:\n",
        "\n",
        "Uruguay/Slovenia approach - Can we replicate their success?\n",
        "\n",
        "Colombia expansion - Good volume + high conversion\n",
        "\n",
        "🚨 Key Insight\n",
        "The US market underperformance is a major opportunity - if we could get US conversion from 0.205% to just the overall average of 0.217%, that's +115 more purchases from existing traffic!"
      ],
      "metadata": {
        "id": "Ch9i6fMdD2Dj"
      }
    },
    {
      "cell_type": "markdown",
      "source": [
        "# **Cell 16: User Journey Analysis**"
      ],
      "metadata": {
        "id": "5HDH_5XPD42r"
      }
    },
    {
      "cell_type": "code",
      "source": [
        "# Cell 16: User Journey Analysis\n",
        "print(\"## Phase 2.6: User Journey Analysis\")\n",
        "\n",
        "# Create user journey by looking at event sequence per user\n",
        "user_journey = df.groupby('user_pseudo_id').agg({\n",
        "    'event_name': lambda x: ' → '.join(x.astype(str)),\n",
        "    'is_purchase': 'max'\n",
        "}).rename(columns={'event_name': 'journey', 'is_purchase': 'converted'})\n",
        "\n",
        "# Look at common journey patterns for converters vs non-converters\n",
        "converters = user_journey[user_journey['converted'] == 1]\n",
        "non_converters = user_journey[user_journey['converted'] == 0]\n",
        "\n",
        "print(f\"Total users: {len(user_journey):,}\")\n",
        "print(f\"Converters: {len(converters):,}\")\n",
        "print(f\"Non-converters: {len(non_converters):,}\")\n",
        "\n",
        "# Sample conversion journeys\n",
        "print(f\"\\nSample successful journeys:\")\n",
        "print(converters['journey'].head(3).tolist())\n",
        "\n",
        "print(f\"\\nPhase 2 Business Analysis Complete!\")\n",
        "print(f\"✅ Ready for Phase 3: Visualizations\")\n"
      ],
      "metadata": {
        "colab": {
          "base_uri": "https://localhost:8080/"
        },
        "id": "P9A5JDOkD2wL",
        "outputId": "7905bf41-8f5f-49c7-805e-ab3413c1fa46"
      },
      "execution_count": 30,
      "outputs": [
        {
          "output_type": "stream",
          "name": "stdout",
          "text": [
            "## Phase 2.6: User Journey Analysis\n",
            "Total users: 179,058\n",
            "Converters: 3,409\n",
            "Non-converters: 175,649\n",
            "\n",
            "Sample successful journeys:\n",
            "['session_start → first_visit → page_view → user_engagement → page_view → user_engagement → user_engagement → page_view → page_view → user_engagement → page_view → user_engagement → page_view → user_engagement → page_view → user_engagement → page_view → user_engagement → page_view → user_engagement → page_view → user_engagement → page_view → user_engagement → page_view → user_engagement → page_view → user_engagement → page_view → page_view → user_engagement → page_view → user_engagement → page_view → user_engagement → page_view → page_view → user_engagement → page_view → user_engagement → page_view → user_engagement → page_view → user_engagement → page_view → user_engagement → page_view → user_engagement → page_view → user_engagement → page_view → purchase → user_engagement → user_engagement', 'session_start → page_view → first_visit → user_engagement → page_view → user_engagement → page_view → user_engagement → page_view → user_engagement → page_view → user_engagement → page_view → user_engagement → page_view → user_engagement → page_view → user_engagement → page_view → user_engagement → page_view → user_engagement → page_view → user_engagement → page_view → user_engagement → page_view → user_engagement → page_view → user_engagement → page_view → user_engagement → page_view → user_engagement → page_view → purchase → session_start → user_engagement', 'session_start → first_visit → page_view → user_engagement → page_view → user_engagement → page_view → user_engagement → page_view → user_engagement → page_view → user_engagement → page_view → page_view → user_engagement → page_view → user_engagement → user_engagement → page_view → page_view → page_view → user_engagement → page_view → user_engagement → page_view → user_engagement → page_view → user_engagement → user_engagement → page_view → user_engagement → page_view → user_engagement → page_view → user_engagement → page_view → page_view → user_engagement → page_view → user_engagement → page_view → user_engagement → page_view → user_engagement → page_view → user_engagement → page_view → page_view → user_engagement → page_view → user_engagement → page_view → user_engagement → page_view → user_engagement → user_engagement → page_view → session_start → user_engagement → page_view → user_engagement → page_view → user_engagement → page_view → user_engagement → page_view → user_engagement → page_view → user_engagement → page_view → user_engagement → page_view → page_view → user_engagement → page_view → user_engagement → page_view → page_view → user_engagement → page_view → page_view → purchase → user_engagement → session_start → user_engagement']\n",
            "\n",
            "Phase 2 Business Analysis Complete!\n",
            "✅ Ready for Phase 3: Visualizations\n"
          ]
        }
      ]
    },
    {
      "cell_type": "markdown",
      "source": [
        "Phase 3-Chart 1"
      ],
      "metadata": {
        "id": "vX9d_f9zIZMb"
      }
    },
    {
      "cell_type": "code",
      "source": [
        "# Phase 3-Chart 1 – Conversion rate by traffic source\n",
        "import matplotlib.pyplot as plt\n",
        "\n",
        "# 1️⃣  aggregate\n",
        "source_perf = (\n",
        "    df.groupby(\"source\")\n",
        "      .agg(purchases=(\"is_purchase\", \"sum\"),\n",
        "           events=(\"event_name\", \"count\"))\n",
        ")\n",
        "source_perf[\"conversion_rate\"] = (\n",
        "    source_perf[\"purchases\"] / source_perf[\"events\"] * 100\n",
        ").round(3)\n",
        "source_perf = source_perf.sort_values(\"conversion_rate\", ascending=False)\n",
        "\n",
        "# 2️⃣  plot\n",
        "plt.figure(figsize=(10,6))\n",
        "plt.bar(source_perf.index,\n",
        "        source_perf[\"conversion_rate\"],\n",
        "        color=\"steelblue\")\n",
        "plt.title(\"Conversion rate by traffic source\", fontsize=14)\n",
        "plt.ylabel(\"Conversion rate (%)\")\n",
        "plt.xticks(rotation=45, ha=\"right\")\n",
        "plt.tight_layout()\n",
        "plt.show()\n"
      ],
      "metadata": {
        "colab": {
          "base_uri": "https://localhost:8080/",
          "height": 391
        },
        "id": "fXFVTN1hD62q",
        "outputId": "c2ea254b-4e59-4f4c-80b4-2167f79ce3ba"
      },
      "execution_count": 31,
      "outputs": [
        {
          "output_type": "display_data",
          "data": {
            "text/plain": [
              "<Figure size 1000x600 with 1 Axes>"
            ],
            "image/png": "[encoded data removed]"
          },
          "metadata": {}
        }
      ]
    },
    {
      "cell_type": "code",
      "source": [
        "# Hourly conversion-rate bar chart  (Phase 3 – Chart 2)\n",
        "\n",
        "import matplotlib.pyplot as plt\n",
        "import seaborn as sns\n",
        "\n",
        "# 1) build hourly conversion table\n",
        "hourly_perf = (\n",
        "    df.groupby('hour')\n",
        "      .agg(purchases=('is_purchase', 'sum'),\n",
        "           events=('event_name', 'count'))\n",
        ")\n",
        "hourly_perf['conversion_rate'] = (\n",
        "    hourly_perf['purchases'] / hourly_perf['events'] * 100\n",
        ").round(3)\n",
        "\n",
        "# 2) plot\n",
        "plt.figure(figsize=(12,6))\n",
        "sns.barplot(x=hourly_perf.index,\n",
        "            y=hourly_perf['conversion_rate'],\n",
        "            palette='Blues_d')\n",
        "plt.title('Hourly Conversion Rate')\n",
        "plt.xlabel('Hour of Day')\n",
        "plt.ylabel('Conversion Rate (%)')\n",
        "plt.xticks(rotation=0)\n",
        "plt.tight_layout()\n",
        "plt.show()\n"
      ],
      "metadata": {
        "colab": {
          "base_uri": "https://localhost:8080/",
          "height": 435
        },
        "id": "rPlf8omCJNB5",
        "outputId": "7d35322c-b8ec-4eb2-bd1e-f942dd037db7"
      },
      "execution_count": 32,
      "outputs": [
        {
          "output_type": "stream",
          "name": "stderr",
          "text": [
            "/tmp/ipython-input-1950721238.py:18: FutureWarning: \n",
            "\n",
            "Passing `palette` without assigning `hue` is deprecated and will be removed in v0.14.0. Assign the `x` variable to `hue` and set `legend=False` for the same effect.\n",
            "\n",
            "  sns.barplot(x=hourly_perf.index,\n"
          ]
        },
        {
          "output_type": "display_data",
          "data": {
            "text/plain": [
              "<Figure size 1200x600 with 1 Axes>"
            ],
            "image/png": "[encoded data removed]"
          },
          "metadata": {}
        }
      ]
    },
    {
      "cell_type": "code",
      "source": [
        "# Sanity-check hourly volumes\n",
        "hourly_counts     = df.groupby('hour').size()\n",
        "hourly_purchases  = df[df['is_purchase'] == 1].groupby('hour').size()\n",
        "hourly_conversion = (hourly_purchases / hourly_counts * 100).round(3)\n",
        "\n",
        "print(\"Hourly event counts:\\n\", hourly_counts.head())\n",
        "print(\"\\nHourly purchase counts:\\n\", hourly_purchases.head())\n",
        "print(\"\\nHourly conversion (%):\\n\", hourly_conversion.head())\n"
      ],
      "metadata": {
        "colab": {
          "base_uri": "https://localhost:8080/"
        },
        "id": "6VY-4sqhJkkY",
        "outputId": "10720575-9373-4c9b-8ea2-c0a1a947b0c4"
      },
      "execution_count": 33,
      "outputs": [
        {
          "output_type": "stream",
          "name": "stdout",
          "text": [
            "Hourly event counts:\n",
            " hour\n",
            "0    88403\n",
            "1    89005\n",
            "2    89727\n",
            "3    93385\n",
            "4    90053\n",
            "dtype: int64\n",
            "\n",
            "Hourly purchase counts:\n",
            " hour\n",
            "0    183\n",
            "1    176\n",
            "2    196\n",
            "3    182\n",
            "4    174\n",
            "dtype: int64\n",
            "\n",
            "Hourly conversion (%):\n",
            " hour\n",
            "0    0.207\n",
            "1    0.198\n",
            "2    0.218\n",
            "3    0.195\n",
            "4    0.193\n",
            "dtype: float64\n"
          ]
        }
      ]
    },
    {
      "cell_type": "code",
      "source": [
        "# Phase 3 – Chart 3: Conversion rate by device category\n",
        "import matplotlib.pyplot as plt\n",
        "import seaborn as sns\n",
        "\n",
        "# 1️⃣  aggregate\n",
        "device_perf = (\n",
        "    df.groupby('device_category')\n",
        "      .agg(purchases=('is_purchase', 'sum'),\n",
        "           events=('event_name', 'count'))\n",
        ")\n",
        "device_perf['conversion_rate'] = (\n",
        "    device_perf['purchases'] / device_perf['events'] * 100\n",
        ").round(3)\n",
        "device_perf = device_perf.sort_values('conversion_rate', ascending=False)\n",
        "\n",
        "# 2️⃣  plot\n",
        "plt.figure(figsize=(8,5))\n",
        "sns.barplot(x=device_perf.index,\n",
        "            y=device_perf['conversion_rate'],\n",
        "            palette='pastel')\n",
        "plt.title('Conversion rate by device category')\n",
        "plt.xlabel('Device category')\n",
        "plt.ylabel('Conversion rate (%)')\n",
        "plt.ylim(0, device_perf['conversion_rate'].max() + 0.05)   # a little headroom\n",
        "plt.tight_layout()\n",
        "plt.show()\n",
        "\n"
      ],
      "metadata": {
        "colab": {
          "base_uri": "https://localhost:8080/",
          "height": 513
        },
        "id": "7bGDgZgdJ_vm",
        "outputId": "f1e454e7-d104-4afb-cc7b-05cc01ebde0e"
      },
      "execution_count": 34,
      "outputs": [
        {
          "output_type": "stream",
          "name": "stderr",
          "text": [
            "/tmp/ipython-input-1995286272.py:18: FutureWarning: \n",
            "\n",
            "Passing `palette` without assigning `hue` is deprecated and will be removed in v0.14.0. Assign the `x` variable to `hue` and set `legend=False` for the same effect.\n",
            "\n",
            "  sns.barplot(x=device_perf.index,\n"
          ]
        },
        {
          "output_type": "display_data",
          "data": {
            "text/plain": [
              "<Figure size 800x500 with 1 Axes>"
            ],
            "image/png": "[encoded data removed]"
          },
          "metadata": {}
        }
      ]
    },
    {
      "cell_type": "code",
      "source": [
        "# Phase 3 – Chart 4: Conversion rate by country (choropleth)\n",
        "import plotly.express as px\n",
        "\n",
        "# 1️⃣  aggregate\n",
        "country_data = (\n",
        "    df.groupby('country')\n",
        "      .agg(purchases=('is_purchase', 'sum'),\n",
        "           events=('event_name', 'count'))\n",
        "      .reset_index()\n",
        ")\n",
        "country_data['conversion_rate'] = (\n",
        "    country_data['purchases'] / country_data['events'] * 100\n",
        ").round(3)\n",
        "\n",
        "# keep countries with reasonable sample size\n",
        "filtered = country_data[country_data['events'] > 1_000]\n",
        "\n",
        "# 2️⃣  plot\n",
        "fig = px.choropleth(filtered,\n",
        "                    locations='country',\n",
        "                    locationmode='country names',\n",
        "                    color='conversion_rate',\n",
        "                    color_continuous_scale='Viridis',\n",
        "                    title='Conversion rate by country',\n",
        "                    labels={'conversion_rate': 'Conversion rate (%)'})\n",
        "fig.show()\n"
      ],
      "metadata": {
        "colab": {
          "base_uri": "https://localhost:8080/",
          "height": 542
        },
        "id": "-o7sIsMaKQQE",
        "outputId": "5aa4a3cb-ab9d-49ba-da95-fd26c7081527"
      },
      "execution_count": 36,
      "outputs": [
        {
          "output_type": "display_data",
          "data": {
            "text/html": [
              "<html>\n",
              "<head><meta charset=\"utf-8\" /></head>\n",
              "<body>\n",
              "    <div>            <script src=\"https://cdnjs.cloudflare.com/ajax/libs/mathjax/2.7.5/MathJax.js?config=TeX-AMS-MML_SVG\"></script><script type=\"text/javascript\">if (window.MathJax && window.MathJax.Hub && window.MathJax.Hub.Config) {window.MathJax.Hub.Config({SVG: {font: \"STIX-Web\"}});}</script>                <script type=\"text/javascript\">window.PlotlyConfig = {MathJaxConfig: 'local'};</script>\n",
              "        <script charset=\"utf-8\" src=\"https://cdn.plot.ly/plotly-2.35.2.min.js\"></script>                <div id=\"f0379524-24fa-461d-b4f8-26d38a3d5d96\" class=\"plotly-graph-div\" style=\"height:525px; width:100%;\"></div>            <script type=\"text/javascript\">                                    window.PLOTLYENV=window.PLOTLYENV || {};                                    if (document.getElementById(\"f0379524-24fa-461d-b4f8-26d38a3d5d96\")) {                    Plotly.newPlot(                        \"f0379524-24fa-461d-b4f8-26d38a3d5d96\",                        [{\"coloraxis\":\"coloraxis\",\"geo\":\"geo\",\"hovertemplate\":\"country=%{location}\\u003cbr\\u003eConversion rate (%)=%{z}\\u003cextra\\u003e\\u003c\\u002fextra\\u003e\",\"locationmode\":\"country names\",\"locations\":[\"(not set)\",\"Algeria\",\"Argentina\",\"Australia\",\"Austria\",\"Bangladesh\",\"Belgium\",\"Brazil\",\"Bulgaria\",\"Canada\",\"Chile\",\"China\",\"Colombia\",\"Croatia\",\"Czechia\",\"Denmark\",\"Dominican Republic\",\"Ecuador\",\"Egypt\",\"Finland\",\"France\",\"Germany\",\"Greece\",\"Hong Kong\",\"Hungary\",\"India\",\"Indonesia\",\"Iraq\",\"Ireland\",\"Israel\",\"Italy\",\"Japan\",\"Kenya\",\"Kuwait\",\"Lithuania\",\"Malaysia\",\"Mexico\",\"Morocco\",\"Netherlands\",\"New Zealand\",\"Nigeria\",\"Norway\",\"Pakistan\",\"Peru\",\"Philippines\",\"Poland\",\"Portugal\",\"Puerto Rico\",\"Romania\",\"Russia\",\"Saudi Arabia\",\"Serbia\",\"Singapore\",\"Slovakia\",\"Slovenia\",\"South Africa\",\"South Korea\",\"Spain\",\"Sri Lanka\",\"Sweden\",\"Switzerland\",\"Taiwan\",\"Thailand\",\"Tunisia\",\"Turkey\",\"Ukraine\",\"United Arab Emirates\",\"United Kingdom\",\"United States\",\"Uruguay\",\"Vietnam\"],\"name\":\"\",\"z\":[0.18,0.194,0.146,0.189,0.329,0.203,0.151,0.221,0.287,0.22,0.197,0.195,0.39,0.038,0.301,0.18,0.38,0.158,0.168,0.13,0.234,0.2,0.281,0.26,0.17,0.229,0.14,0.2,0.199,0.172,0.15,0.221,0.251,0.331,0.178,0.239,0.245,0.156,0.2,0.118,0.25,0.027,0.182,0.243,0.191,0.205,0.177,0.227,0.066,0.269,0.157,0.202,0.22,0.098,0.501,0.061,0.175,0.227,0.179,0.175,0.182,0.165,0.254,0.209,0.304,0.128,0.099,0.212,0.205,0.57,0.243],\"type\":\"choropleth\"}],                        {\"template\":{\"data\":{\"histogram2dcontour\":[{\"type\":\"histogram2dcontour\",\"colorbar\":{\"outlinewidth\":0,\"ticks\":\"\"},\"colorscale\":[[0.0,\"#0d0887\"],[0.1111111111111111,\"#46039f\"],[0.2222222222222222,\"#7201a8\"],[0.3333333333333333,\"#9c179e\"],[0.4444444444444444,\"#bd3786\"],[0.5555555555555556,\"#d8576b\"],[0.6666666666666666,\"#ed7953\"],[0.7777777777777778,\"#fb9f3a\"],[0.8888888888888888,\"#fdca26\"],[1.0,\"#f0f921\"]]}],\"choropleth\":[{\"type\":\"choropleth\",\"colorbar\":{\"outlinewidth\":0,\"ticks\":\"\"}}],\"histogram2d\":[{\"type\":\"histogram2d\",\"colorbar\":{\"outlinewidth\":0,\"ticks\":\"\"},\"colorscale\":[[0.0,\"#0d0887\"],[0.1111111111111111,\"#46039f\"],[0.2222222222222222,\"#7201a8\"],[0.3333333333333333,\"#9c179e\"],[0.4444444444444444,\"#bd3786\"],[0.5555555555555556,\"#d8576b\"],[0.6666666666666666,\"#ed7953\"],[0.7777777777777778,\"#fb9f3a\"],[0.8888888888888888,\"#fdca26\"],[1.0,\"#f0f921\"]]}],\"heatmap\":[{\"type\":\"heatmap\",\"colorbar\":{\"outlinewidth\":0,\"ticks\":\"\"},\"colorscale\":[[0.0,\"#0d0887\"],[0.1111111111111111,\"#46039f\"],[0.2222222222222222,\"#7201a8\"],[0.3333333333333333,\"#9c179e\"],[0.4444444444444444,\"#bd3786\"],[0.5555555555555556,\"#d8576b\"],[0.6666666666666666,\"#ed7953\"],[0.7777777777777778,\"#fb9f3a\"],[0.8888888888888888,\"#fdca26\"],[1.0,\"#f0f921\"]]}],\"heatmapgl\":[{\"type\":\"heatmapgl\",\"colorbar\":{\"outlinewidth\":0,\"ticks\":\"\"},\"colorscale\":[[0.0,\"#0d0887\"],[0.1111111111111111,\"#46039f\"],[0.2222222222222222,\"#7201a8\"],[0.3333333333333333,\"#9c179e\"],[0.4444444444444444,\"#bd3786\"],[0.5555555555555556,\"#d8576b\"],[0.6666666666666666,\"#ed7953\"],[0.7777777777777778,\"#fb9f3a\"],[0.8888888888888888,\"#fdca26\"],[1.0,\"#f0f921\"]]}],\"contourcarpet\":[{\"type\":\"contourcarpet\",\"colorbar\":{\"outlinewidth\":0,\"ticks\":\"\"}}],\"contour\":[{\"type\":\"contour\",\"colorbar\":{\"outlinewidth\":0,\"ticks\":\"\"},\"colorscale\":[[0.0,\"#0d0887\"],[0.1111111111111111,\"#46039f\"],[0.2222222222222222,\"#7201a8\"],[0.3333333333333333,\"#9c179e\"],[0.4444444444444444,\"#bd3786\"],[0.5555555555555556,\"#d8576b\"],[0.6666666666666666,\"#ed7953\"],[0.7777777777777778,\"#fb9f3a\"],[0.8888888888888888,\"#fdca26\"],[1.0,\"#f0f921\"]]}],\"surface\":[{\"type\":\"surface\",\"colorbar\":{\"outlinewidth\":0,\"ticks\":\"\"},\"colorscale\":[[0.0,\"#0d0887\"],[0.1111111111111111,\"#46039f\"],[0.2222222222222222,\"#7201a8\"],[0.3333333333333333,\"#9c179e\"],[0.4444444444444444,\"#bd3786\"],[0.5555555555555556,\"#d8576b\"],[0.6666666666666666,\"#ed7953\"],[0.7777777777777778,\"#fb9f3a\"],[0.8888888888888888,\"#fdca26\"],[1.0,\"#f0f921\"]]}],\"mesh3d\":[{\"type\":\"mesh3d\",\"colorbar\":{\"outlinewidth\":0,\"ticks\":\"\"}}],\"scatter\":[{\"fillpattern\":{\"fillmode\":\"overlay\",\"size\":10,\"solidity\":0.2},\"type\":\"scatter\"}],\"parcoords\":[{\"type\":\"parcoords\",\"line\":{\"colorbar\":{\"outlinewidth\":0,\"ticks\":\"\"}}}],\"scatterpolargl\":[{\"type\":\"scatterpolargl\",\"marker\":{\"colorbar\":{\"outlinewidth\":0,\"ticks\":\"\"}}}],\"bar\":[{\"error_x\":{\"color\":\"#2a3f5f\"},\"error_y\":{\"color\":\"#2a3f5f\"},\"marker\":{\"line\":{\"color\":\"#E5ECF6\",\"width\":0.5},\"pattern\":{\"fillmode\":\"overlay\",\"size\":10,\"solidity\":0.2}},\"type\":\"bar\"}],\"scattergeo\":[{\"type\":\"scattergeo\",\"marker\":{\"colorbar\":{\"outlinewidth\":0,\"ticks\":\"\"}}}],\"scatterpolar\":[{\"type\":\"scatterpolar\",\"marker\":{\"colorbar\":{\"outlinewidth\":0,\"ticks\":\"\"}}}],\"histogram\":[{\"marker\":{\"pattern\":{\"fillmode\":\"overlay\",\"size\":10,\"solidity\":0.2}},\"type\":\"histogram\"}],\"scattergl\":[{\"type\":\"scattergl\",\"marker\":{\"colorbar\":{\"outlinewidth\":0,\"ticks\":\"\"}}}],\"scatter3d\":[{\"type\":\"scatter3d\",\"line\":{\"colorbar\":{\"outlinewidth\":0,\"ticks\":\"\"}},\"marker\":{\"colorbar\":{\"outlinewidth\":0,\"ticks\":\"\"}}}],\"scattermapbox\":[{\"type\":\"scattermapbox\",\"marker\":{\"colorbar\":{\"outlinewidth\":0,\"ticks\":\"\"}}}],\"scatterternary\":[{\"type\":\"scatterternary\",\"marker\":{\"colorbar\":{\"outlinewidth\":0,\"ticks\":\"\"}}}],\"scattercarpet\":[{\"type\":\"scattercarpet\",\"marker\":{\"colorbar\":{\"outlinewidth\":0,\"ticks\":\"\"}}}],\"carpet\":[{\"aaxis\":{\"endlinecolor\":\"#2a3f5f\",\"gridcolor\":\"white\",\"linecolor\":\"white\",\"minorgridcolor\":\"white\",\"startlinecolor\":\"#2a3f5f\"},\"baxis\":{\"endlinecolor\":\"#2a3f5f\",\"gridcolor\":\"white\",\"linecolor\":\"white\",\"minorgridcolor\":\"white\",\"startlinecolor\":\"#2a3f5f\"},\"type\":\"carpet\"}],\"table\":[{\"cells\":{\"fill\":{\"color\":\"#EBF0F8\"},\"line\":{\"color\":\"white\"}},\"header\":{\"fill\":{\"color\":\"#C8D4E3\"},\"line\":{\"color\":\"white\"}},\"type\":\"table\"}],\"barpolar\":[{\"marker\":{\"line\":{\"color\":\"#E5ECF6\",\"width\":0.5},\"pattern\":{\"fillmode\":\"overlay\",\"size\":10,\"solidity\":0.2}},\"type\":\"barpolar\"}],\"pie\":[{\"automargin\":true,\"type\":\"pie\"}]},\"layout\":{\"autotypenumbers\":\"strict\",\"colorway\":[\"#636efa\",\"#EF553B\",\"#00cc96\",\"#ab63fa\",\"#FFA15A\",\"#19d3f3\",\"#FF6692\",\"#B6E880\",\"#FF97FF\",\"#FECB52\"],\"font\":{\"color\":\"#2a3f5f\"},\"hovermode\":\"closest\",\"hoverlabel\":{\"align\":\"left\"},\"paper_bgcolor\":\"white\",\"plot_bgcolor\":\"#E5ECF6\",\"polar\":{\"bgcolor\":\"#E5ECF6\",\"angularaxis\":{\"gridcolor\":\"white\",\"linecolor\":\"white\",\"ticks\":\"\"},\"radialaxis\":{\"gridcolor\":\"white\",\"linecolor\":\"white\",\"ticks\":\"\"}},\"ternary\":{\"bgcolor\":\"#E5ECF6\",\"aaxis\":{\"gridcolor\":\"white\",\"linecolor\":\"white\",\"ticks\":\"\"},\"baxis\":{\"gridcolor\":\"white\",\"linecolor\":\"white\",\"ticks\":\"\"},\"caxis\":{\"gridcolor\":\"white\",\"linecolor\":\"white\",\"ticks\":\"\"}},\"coloraxis\":{\"colorbar\":{\"outlinewidth\":0,\"ticks\":\"\"}},\"colorscale\":{\"sequential\":[[0.0,\"#0d0887\"],[0.1111111111111111,\"#46039f\"],[0.2222222222222222,\"#7201a8\"],[0.3333333333333333,\"#9c179e\"],[0.4444444444444444,\"#bd3786\"],[0.5555555555555556,\"#d8576b\"],[0.6666666666666666,\"#ed7953\"],[0.7777777777777778,\"#fb9f3a\"],[0.8888888888888888,\"#fdca26\"],[1.0,\"#f0f921\"]],\"sequentialminus\":[[0.0,\"#0d0887\"],[0.1111111111111111,\"#46039f\"],[0.2222222222222222,\"#7201a8\"],[0.3333333333333333,\"#9c179e\"],[0.4444444444444444,\"#bd3786\"],[0.5555555555555556,\"#d8576b\"],[0.6666666666666666,\"#ed7953\"],[0.7777777777777778,\"#fb9f3a\"],[0.8888888888888888,\"#fdca26\"],[1.0,\"#f0f921\"]],\"diverging\":[[0,\"#8e0152\"],[0.1,\"#c51b7d\"],[0.2,\"#de77ae\"],[0.3,\"#f1b6da\"],[0.4,\"#fde0ef\"],[0.5,\"#f7f7f7\"],[0.6,\"#e6f5d0\"],[0.7,\"#b8e186\"],[0.8,\"#7fbc41\"],[0.9,\"#4d9221\"],[1,\"#276419\"]]},\"xaxis\":{\"gridcolor\":\"white\",\"linecolor\":\"white\",\"ticks\":\"\",\"title\":{\"standoff\":15},\"zerolinecolor\":\"white\",\"automargin\":true,\"zerolinewidth\":2},\"yaxis\":{\"gridcolor\":\"white\",\"linecolor\":\"white\",\"ticks\":\"\",\"title\":{\"standoff\":15},\"zerolinecolor\":\"white\",\"automargin\":true,\"zerolinewidth\":2},\"scene\":{\"xaxis\":{\"backgroundcolor\":\"#E5ECF6\",\"gridcolor\":\"white\",\"linecolor\":\"white\",\"showbackground\":true,\"ticks\":\"\",\"zerolinecolor\":\"white\",\"gridwidth\":2},\"yaxis\":{\"backgroundcolor\":\"#E5ECF6\",\"gridcolor\":\"white\",\"linecolor\":\"white\",\"showbackground\":true,\"ticks\":\"\",\"zerolinecolor\":\"white\",\"gridwidth\":2},\"zaxis\":{\"backgroundcolor\":\"#E5ECF6\",\"gridcolor\":\"white\",\"linecolor\":\"white\",\"showbackground\":true,\"ticks\":\"\",\"zerolinecolor\":\"white\",\"gridwidth\":2}},\"shapedefaults\":{\"line\":{\"color\":\"#2a3f5f\"}},\"annotationdefaults\":{\"arrowcolor\":\"#2a3f5f\",\"arrowhead\":0,\"arrowwidth\":1},\"geo\":{\"bgcolor\":\"white\",\"landcolor\":\"#E5ECF6\",\"subunitcolor\":\"white\",\"showland\":true,\"showlakes\":true,\"lakecolor\":\"white\"},\"title\":{\"x\":0.05},\"mapbox\":{\"style\":\"light\"}}},\"geo\":{\"domain\":{\"x\":[0.0,1.0],\"y\":[0.0,1.0]},\"center\":{}},\"coloraxis\":{\"colorbar\":{\"title\":{\"text\":\"Conversion rate (%)\"}},\"colorscale\":[[0.0,\"#440154\"],[0.1111111111111111,\"#482878\"],[0.2222222222222222,\"#3e4989\"],[0.3333333333333333,\"#31688e\"],[0.4444444444444444,\"#26828e\"],[0.5555555555555556,\"#1f9e89\"],[0.6666666666666666,\"#35b779\"],[0.7777777777777778,\"#6ece58\"],[0.8888888888888888,\"#b5de2b\"],[1.0,\"#fde725\"]]},\"legend\":{\"tracegroupgap\":0},\"title\":{\"text\":\"Conversion rate by country\"}},                        {\"responsive\": true}                    ).then(function(){\n",
              "                            \n",
              "var gd = document.getElementById('f0379524-24fa-461d-b4f8-26d38a3d5d96');\n",
              "var x = new MutationObserver(function (mutations, observer) {{\n",
              "        var display = window.getComputedStyle(gd).display;\n",
              "        if (!display || display === 'none') {{\n",
              "            console.log([gd, 'removed!']);\n",
              "            Plotly.purge(gd);\n",
              "            observer.disconnect();\n",
              "        }}\n",
              "}});\n",
              "\n",
              "// Listen for the removal of the full notebook cells\n",
              "var notebookContainer = gd.closest('#notebook-container');\n",
              "if (notebookContainer) {{\n",
              "    x.observe(notebookContainer, {childList: true});\n",
              "}}\n",
              "\n",
              "// Listen for the clearing of the current output cell\n",
              "var outputEl = gd.closest('.output');\n",
              "if (outputEl) {{\n",
              "    x.observe(outputEl, {childList: true});\n",
              "}}\n",
              "\n",
              "                        })                };                            </script>        </div>\n",
              "</body>\n",
              "</html>"
            ]
          },
          "metadata": {}
        }
      ]
    },
    {
      "cell_type": "code",
      "source": [
        "# Basic Sankey diagram of common event flow\n",
        "import plotly.graph_objects as go\n",
        "\n",
        "# node labels\n",
        "labels = [\"session_start\", \"first_visit\", \"page_view\",\n",
        "          \"user_engagement\", \"purchase\"]\n",
        "\n",
        "# minimal example flows (replace counts with your top path volumes)\n",
        "links = dict(\n",
        "    source=[0, 1, 2, 3],          # from session_start → … → purchase\n",
        "    target=[1, 2, 3, 4],\n",
        "    value =[1000, 800, 600, 400]  # example frequencies\n",
        ")\n",
        "\n",
        "fig = go.Figure(go.Sankey(\n",
        "    node=dict(label=labels,\n",
        "              pad=15, thickness=20,\n",
        "              line=dict(width=0.5, color=\"black\")),\n",
        "    link=links\n",
        "))\n",
        "\n",
        "fig.update_layout(title_text=\"User-journey Sankey diagram\",\n",
        "                  font_size=10)\n",
        "fig.show()\n"
      ],
      "metadata": {
        "colab": {
          "base_uri": "https://localhost:8080/",
          "height": 542
        },
        "id": "n521NaI3Lru2",
        "outputId": "755e172e-0486-42bd-aeac-5bbca6cc4a34"
      },
      "execution_count": 37,
      "outputs": [
        {
          "output_type": "display_data",
          "data": {
            "text/html": [
              "<html>\n",
              "<head><meta charset=\"utf-8\" /></head>\n",
              "<body>\n",
              "    <div>            <script src=\"https://cdnjs.cloudflare.com/ajax/libs/mathjax/2.7.5/MathJax.js?config=TeX-AMS-MML_SVG\"></script><script type=\"text/javascript\">if (window.MathJax && window.MathJax.Hub && window.MathJax.Hub.Config) {window.MathJax.Hub.Config({SVG: {font: \"STIX-Web\"}});}</script>                <script type=\"text/javascript\">window.PlotlyConfig = {MathJaxConfig: 'local'};</script>\n",
              "        <script charset=\"utf-8\" src=\"https://cdn.plot.ly/plotly-2.35.2.min.js\"></script>                <div id=\"90eaef9e-dc89-491b-93c0-6f25e22cb250\" class=\"plotly-graph-div\" style=\"height:525px; width:100%;\"></div>            <script type=\"text/javascript\">                                    window.PLOTLYENV=window.PLOTLYENV || {};                                    if (document.getElementById(\"90eaef9e-dc89-491b-93c0-6f25e22cb250\")) {                    Plotly.newPlot(                        \"90eaef9e-dc89-491b-93c0-6f25e22cb250\",                        [{\"link\":{\"source\":[0,1,2,3],\"target\":[1,2,3,4],\"value\":[1000,800,600,400]},\"node\":{\"label\":[\"session_start\",\"first_visit\",\"page_view\",\"user_engagement\",\"purchase\"],\"line\":{\"color\":\"black\",\"width\":0.5},\"pad\":15,\"thickness\":20},\"type\":\"sankey\"}],                        {\"template\":{\"data\":{\"histogram2dcontour\":[{\"type\":\"histogram2dcontour\",\"colorbar\":{\"outlinewidth\":0,\"ticks\":\"\"},\"colorscale\":[[0.0,\"#0d0887\"],[0.1111111111111111,\"#46039f\"],[0.2222222222222222,\"#7201a8\"],[0.3333333333333333,\"#9c179e\"],[0.4444444444444444,\"#bd3786\"],[0.5555555555555556,\"#d8576b\"],[0.6666666666666666,\"#ed7953\"],[0.7777777777777778,\"#fb9f3a\"],[0.8888888888888888,\"#fdca26\"],[1.0,\"#f0f921\"]]}],\"choropleth\":[{\"type\":\"choropleth\",\"colorbar\":{\"outlinewidth\":0,\"ticks\":\"\"}}],\"histogram2d\":[{\"type\":\"histogram2d\",\"colorbar\":{\"outlinewidth\":0,\"ticks\":\"\"},\"colorscale\":[[0.0,\"#0d0887\"],[0.1111111111111111,\"#46039f\"],[0.2222222222222222,\"#7201a8\"],[0.3333333333333333,\"#9c179e\"],[0.4444444444444444,\"#bd3786\"],[0.5555555555555556,\"#d8576b\"],[0.6666666666666666,\"#ed7953\"],[0.7777777777777778,\"#fb9f3a\"],[0.8888888888888888,\"#fdca26\"],[1.0,\"#f0f921\"]]}],\"heatmap\":[{\"type\":\"heatmap\",\"colorbar\":{\"outlinewidth\":0,\"ticks\":\"\"},\"colorscale\":[[0.0,\"#0d0887\"],[0.1111111111111111,\"#46039f\"],[0.2222222222222222,\"#7201a8\"],[0.3333333333333333,\"#9c179e\"],[0.4444444444444444,\"#bd3786\"],[0.5555555555555556,\"#d8576b\"],[0.6666666666666666,\"#ed7953\"],[0.7777777777777778,\"#fb9f3a\"],[0.8888888888888888,\"#fdca26\"],[1.0,\"#f0f921\"]]}],\"heatmapgl\":[{\"type\":\"heatmapgl\",\"colorbar\":{\"outlinewidth\":0,\"ticks\":\"\"},\"colorscale\":[[0.0,\"#0d0887\"],[0.1111111111111111,\"#46039f\"],[0.2222222222222222,\"#7201a8\"],[0.3333333333333333,\"#9c179e\"],[0.4444444444444444,\"#bd3786\"],[0.5555555555555556,\"#d8576b\"],[0.6666666666666666,\"#ed7953\"],[0.7777777777777778,\"#fb9f3a\"],[0.8888888888888888,\"#fdca26\"],[1.0,\"#f0f921\"]]}],\"contourcarpet\":[{\"type\":\"contourcarpet\",\"colorbar\":{\"outlinewidth\":0,\"ticks\":\"\"}}],\"contour\":[{\"type\":\"contour\",\"colorbar\":{\"outlinewidth\":0,\"ticks\":\"\"},\"colorscale\":[[0.0,\"#0d0887\"],[0.1111111111111111,\"#46039f\"],[0.2222222222222222,\"#7201a8\"],[0.3333333333333333,\"#9c179e\"],[0.4444444444444444,\"#bd3786\"],[0.5555555555555556,\"#d8576b\"],[0.6666666666666666,\"#ed7953\"],[0.7777777777777778,\"#fb9f3a\"],[0.8888888888888888,\"#fdca26\"],[1.0,\"#f0f921\"]]}],\"surface\":[{\"type\":\"surface\",\"colorbar\":{\"outlinewidth\":0,\"ticks\":\"\"},\"colorscale\":[[0.0,\"#0d0887\"],[0.1111111111111111,\"#46039f\"],[0.2222222222222222,\"#7201a8\"],[0.3333333333333333,\"#9c179e\"],[0.4444444444444444,\"#bd3786\"],[0.5555555555555556,\"#d8576b\"],[0.6666666666666666,\"#ed7953\"],[0.7777777777777778,\"#fb9f3a\"],[0.8888888888888888,\"#fdca26\"],[1.0,\"#f0f921\"]]}],\"mesh3d\":[{\"type\":\"mesh3d\",\"colorbar\":{\"outlinewidth\":0,\"ticks\":\"\"}}],\"scatter\":[{\"fillpattern\":{\"fillmode\":\"overlay\",\"size\":10,\"solidity\":0.2},\"type\":\"scatter\"}],\"parcoords\":[{\"type\":\"parcoords\",\"line\":{\"colorbar\":{\"outlinewidth\":0,\"ticks\":\"\"}}}],\"scatterpolargl\":[{\"type\":\"scatterpolargl\",\"marker\":{\"colorbar\":{\"outlinewidth\":0,\"ticks\":\"\"}}}],\"bar\":[{\"error_x\":{\"color\":\"#2a3f5f\"},\"error_y\":{\"color\":\"#2a3f5f\"},\"marker\":{\"line\":{\"color\":\"#E5ECF6\",\"width\":0.5},\"pattern\":{\"fillmode\":\"overlay\",\"size\":10,\"solidity\":0.2}},\"type\":\"bar\"}],\"scattergeo\":[{\"type\":\"scattergeo\",\"marker\":{\"colorbar\":{\"outlinewidth\":0,\"ticks\":\"\"}}}],\"scatterpolar\":[{\"type\":\"scatterpolar\",\"marker\":{\"colorbar\":{\"outlinewidth\":0,\"ticks\":\"\"}}}],\"histogram\":[{\"marker\":{\"pattern\":{\"fillmode\":\"overlay\",\"size\":10,\"solidity\":0.2}},\"type\":\"histogram\"}],\"scattergl\":[{\"type\":\"scattergl\",\"marker\":{\"colorbar\":{\"outlinewidth\":0,\"ticks\":\"\"}}}],\"scatter3d\":[{\"type\":\"scatter3d\",\"line\":{\"colorbar\":{\"outlinewidth\":0,\"ticks\":\"\"}},\"marker\":{\"colorbar\":{\"outlinewidth\":0,\"ticks\":\"\"}}}],\"scattermapbox\":[{\"type\":\"scattermapbox\",\"marker\":{\"colorbar\":{\"outlinewidth\":0,\"ticks\":\"\"}}}],\"scatterternary\":[{\"type\":\"scatterternary\",\"marker\":{\"colorbar\":{\"outlinewidth\":0,\"ticks\":\"\"}}}],\"scattercarpet\":[{\"type\":\"scattercarpet\",\"marker\":{\"colorbar\":{\"outlinewidth\":0,\"ticks\":\"\"}}}],\"carpet\":[{\"aaxis\":{\"endlinecolor\":\"#2a3f5f\",\"gridcolor\":\"white\",\"linecolor\":\"white\",\"minorgridcolor\":\"white\",\"startlinecolor\":\"#2a3f5f\"},\"baxis\":{\"endlinecolor\":\"#2a3f5f\",\"gridcolor\":\"white\",\"linecolor\":\"white\",\"minorgridcolor\":\"white\",\"startlinecolor\":\"#2a3f5f\"},\"type\":\"carpet\"}],\"table\":[{\"cells\":{\"fill\":{\"color\":\"#EBF0F8\"},\"line\":{\"color\":\"white\"}},\"header\":{\"fill\":{\"color\":\"#C8D4E3\"},\"line\":{\"color\":\"white\"}},\"type\":\"table\"}],\"barpolar\":[{\"marker\":{\"line\":{\"color\":\"#E5ECF6\",\"width\":0.5},\"pattern\":{\"fillmode\":\"overlay\",\"size\":10,\"solidity\":0.2}},\"type\":\"barpolar\"}],\"pie\":[{\"automargin\":true,\"type\":\"pie\"}]},\"layout\":{\"autotypenumbers\":\"strict\",\"colorway\":[\"#636efa\",\"#EF553B\",\"#00cc96\",\"#ab63fa\",\"#FFA15A\",\"#19d3f3\",\"#FF6692\",\"#B6E880\",\"#FF97FF\",\"#FECB52\"],\"font\":{\"color\":\"#2a3f5f\"},\"hovermode\":\"closest\",\"hoverlabel\":{\"align\":\"left\"},\"paper_bgcolor\":\"white\",\"plot_bgcolor\":\"#E5ECF6\",\"polar\":{\"bgcolor\":\"#E5ECF6\",\"angularaxis\":{\"gridcolor\":\"white\",\"linecolor\":\"white\",\"ticks\":\"\"},\"radialaxis\":{\"gridcolor\":\"white\",\"linecolor\":\"white\",\"ticks\":\"\"}},\"ternary\":{\"bgcolor\":\"#E5ECF6\",\"aaxis\":{\"gridcolor\":\"white\",\"linecolor\":\"white\",\"ticks\":\"\"},\"baxis\":{\"gridcolor\":\"white\",\"linecolor\":\"white\",\"ticks\":\"\"},\"caxis\":{\"gridcolor\":\"white\",\"linecolor\":\"white\",\"ticks\":\"\"}},\"coloraxis\":{\"colorbar\":{\"outlinewidth\":0,\"ticks\":\"\"}},\"colorscale\":{\"sequential\":[[0.0,\"#0d0887\"],[0.1111111111111111,\"#46039f\"],[0.2222222222222222,\"#7201a8\"],[0.3333333333333333,\"#9c179e\"],[0.4444444444444444,\"#bd3786\"],[0.5555555555555556,\"#d8576b\"],[0.6666666666666666,\"#ed7953\"],[0.7777777777777778,\"#fb9f3a\"],[0.8888888888888888,\"#fdca26\"],[1.0,\"#f0f921\"]],\"sequentialminus\":[[0.0,\"#0d0887\"],[0.1111111111111111,\"#46039f\"],[0.2222222222222222,\"#7201a8\"],[0.3333333333333333,\"#9c179e\"],[0.4444444444444444,\"#bd3786\"],[0.5555555555555556,\"#d8576b\"],[0.6666666666666666,\"#ed7953\"],[0.7777777777777778,\"#fb9f3a\"],[0.8888888888888888,\"#fdca26\"],[1.0,\"#f0f921\"]],\"diverging\":[[0,\"#8e0152\"],[0.1,\"#c51b7d\"],[0.2,\"#de77ae\"],[0.3,\"#f1b6da\"],[0.4,\"#fde0ef\"],[0.5,\"#f7f7f7\"],[0.6,\"#e6f5d0\"],[0.7,\"#b8e186\"],[0.8,\"#7fbc41\"],[0.9,\"#4d9221\"],[1,\"#276419\"]]},\"xaxis\":{\"gridcolor\":\"white\",\"linecolor\":\"white\",\"ticks\":\"\",\"title\":{\"standoff\":15},\"zerolinecolor\":\"white\",\"automargin\":true,\"zerolinewidth\":2},\"yaxis\":{\"gridcolor\":\"white\",\"linecolor\":\"white\",\"ticks\":\"\",\"title\":{\"standoff\":15},\"zerolinecolor\":\"white\",\"automargin\":true,\"zerolinewidth\":2},\"scene\":{\"xaxis\":{\"backgroundcolor\":\"#E5ECF6\",\"gridcolor\":\"white\",\"linecolor\":\"white\",\"showbackground\":true,\"ticks\":\"\",\"zerolinecolor\":\"white\",\"gridwidth\":2},\"yaxis\":{\"backgroundcolor\":\"#E5ECF6\",\"gridcolor\":\"white\",\"linecolor\":\"white\",\"showbackground\":true,\"ticks\":\"\",\"zerolinecolor\":\"white\",\"gridwidth\":2},\"zaxis\":{\"backgroundcolor\":\"#E5ECF6\",\"gridcolor\":\"white\",\"linecolor\":\"white\",\"showbackground\":true,\"ticks\":\"\",\"zerolinecolor\":\"white\",\"gridwidth\":2}},\"shapedefaults\":{\"line\":{\"color\":\"#2a3f5f\"}},\"annotationdefaults\":{\"arrowcolor\":\"#2a3f5f\",\"arrowhead\":0,\"arrowwidth\":1},\"geo\":{\"bgcolor\":\"white\",\"landcolor\":\"#E5ECF6\",\"subunitcolor\":\"white\",\"showland\":true,\"showlakes\":true,\"lakecolor\":\"white\"},\"title\":{\"x\":0.05},\"mapbox\":{\"style\":\"light\"}}},\"title\":{\"text\":\"User-journey Sankey diagram\"},\"font\":{\"size\":10}},                        {\"responsive\": true}                    ).then(function(){\n",
              "                            \n",
              "var gd = document.getElementById('90eaef9e-dc89-491b-93c0-6f25e22cb250');\n",
              "var x = new MutationObserver(function (mutations, observer) {{\n",
              "        var display = window.getComputedStyle(gd).display;\n",
              "        if (!display || display === 'none') {{\n",
              "            console.log([gd, 'removed!']);\n",
              "            Plotly.purge(gd);\n",
              "            observer.disconnect();\n",
              "        }}\n",
              "}});\n",
              "\n",
              "// Listen for the removal of the full notebook cells\n",
              "var notebookContainer = gd.closest('#notebook-container');\n",
              "if (notebookContainer) {{\n",
              "    x.observe(notebookContainer, {childList: true});\n",
              "}}\n",
              "\n",
              "// Listen for the clearing of the current output cell\n",
              "var outputEl = gd.closest('.output');\n",
              "if (outputEl) {{\n",
              "    x.observe(outputEl, {childList: true});\n",
              "}}\n",
              "\n",
              "                        })                };                            </script>        </div>\n",
              "</body>\n",
              "</html>"
            ]
          },
          "metadata": {}
        }
      ]
    },
    {
      "cell_type": "code",
      "source": [
        "# Phase 3 – Extra visual: Hour-by-day conversion heat-map\n",
        "import matplotlib.pyplot as plt\n",
        "import seaborn as sns\n",
        "\n",
        "# 1️⃣  aggregate to a day-of-week × hour grid\n",
        "grid = (\n",
        "    df.groupby(['day_name', 'hour'])\n",
        "      .agg(purchases=('is_purchase', 'sum'),\n",
        "           events    =('event_name',  'count'))\n",
        "      .reset_index()\n",
        ")\n",
        "grid['conv'] = (grid['purchases'] / grid['events'] * 100).round(3)\n",
        "\n",
        "# ensure rows in calendar order (Mon→Sun)\n",
        "day_order = ['Monday', 'Tuesday', 'Wednesday', 'Thursday',\n",
        "             'Friday', 'Saturday', 'Sunday']\n",
        "pivot = (\n",
        "    grid.pivot(index='day_name', columns='hour', values='conv')\n",
        "        .reindex(day_order)\n",
        ")\n",
        "\n",
        "# 2️⃣  plot\n",
        "plt.figure(figsize=(14,5))\n",
        "sns.heatmap(pivot,\n",
        "            cmap='YlGnBu', linewidths=.5,\n",
        "            cbar_kws={'label':'Conversion rate (%)'})\n",
        "plt.title('Hourly conversion rate – heat-map (Mon→Sun)')\n",
        "plt.xlabel('Hour of day')\n",
        "plt.ylabel('Day of week')\n",
        "plt.tight_layout()\n",
        "plt.show()\n"
      ],
      "metadata": {
        "colab": {
          "base_uri": "https://localhost:8080/",
          "height": 257
        },
        "id": "bQkt9VbhNBPb",
        "outputId": "7cd35645-b755-4989-df69-264e5b922e5d"
      },
      "execution_count": 38,
      "outputs": [
        {
          "output_type": "display_data",
          "data": {
            "text/plain": [
              "<Figure size 1400x500 with 2 Axes>"
            ],
            "image/png": "[encoded data removed]"
          },
          "metadata": {}
        }
      ]
    },
    {
      "cell_type": "code",
      "source": [
        "df.columns"
      ],
      "metadata": {
        "colab": {
          "base_uri": "https://localhost:8080/"
        },
        "id": "ADvOKvGsQtYq",
        "outputId": "0c24816c-675c-42ec-837d-6c9d16778b0a"
      },
      "execution_count": 42,
      "outputs": [
        {
          "output_type": "execute_result",
          "data": {
            "text/plain": [
              "Index(['event_date', 'event_name', 'user_pseudo_id', 'device_category',\n",
              "       'operating_system', 'browser', 'country', 'city', 'source', 'medium',\n",
              "       'campaign_name', 'transaction_id', 'purchase_revenue',\n",
              "       'purchase_revenue_in_usd', 'total_item_quantity', 'event_timestamp',\n",
              "       'is_purchase', 'hour', 'day_name', 'is_weekend'],\n",
              "      dtype='object')"
            ]
          },
          "metadata": {},
          "execution_count": 42
        }
      ]
    },
    {
      "cell_type": "code",
      "source": [
        "df.shape"
      ],
      "metadata": {
        "colab": {
          "base_uri": "https://localhost:8080/"
        },
        "id": "d9m3RKu0QugQ",
        "outputId": "cb6985d8-f54a-4ede-f1d5-c29c7818bed0"
      },
      "execution_count": 43,
      "outputs": [
        {
          "output_type": "execute_result",
          "data": {
            "text/plain": [
              "(2151546, 20)"
            ]
          },
          "metadata": {},
          "execution_count": 43
        }
      ]
    },
    {
      "cell_type": "code",
      "source": [
        "# ── EXPORT FOR POWER BI ──────────────────────────────\n",
        "# Save the fully-cleaned, feature-enhanced table\n",
        "# (make sure this cell runs AFTER all feature-engineering cells)\n",
        "\n",
        "df.to_csv('merchandise_store_full_data.csv', index=False)\n",
        "print('✅  CSV ready for Power BI:  merchandise_store_full_data.csv')\n"
      ],
      "metadata": {
        "colab": {
          "base_uri": "https://localhost:8080/"
        },
        "id": "qXDSOazKQ8nw",
        "outputId": "bc261f2c-4a08-4355-afd4-446042df1af6"
      },
      "execution_count": 44,
      "outputs": [
        {
          "output_type": "stream",
          "name": "stdout",
          "text": [
            "✅  CSV ready for Power BI:  merchandise_store_full_data.csv\n"
          ]
        }
      ]
    },
    {
      "cell_type": "code",
      "source": [
        "!ls /content          # should list merchandise_store_full_data.csv\n"
      ],
      "metadata": {
        "colab": {
          "base_uri": "https://localhost:8080/"
        },
        "id": "zzeg0_vQReNW",
        "outputId": "9ede63c0-1055-47c2-ceca-20a134950f19"
      },
      "execution_count": 45,
      "outputs": [
        {
          "output_type": "stream",
          "name": "stdout",
          "text": [
            "merchandise_store_full_data.csv  sample_data\n"
          ]
        }
      ]
    }
  ]
}